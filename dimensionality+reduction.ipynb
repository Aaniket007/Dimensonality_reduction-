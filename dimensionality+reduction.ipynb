{
 "cells": [
  {
   "cell_type": "code",
   "execution_count": 2,
   "metadata": {},
   "outputs": [
    {
     "name": "stderr",
     "output_type": "stream",
     "text": [
      "Using TensorFlow backend.\n"
     ]
    }
   ],
   "source": [
    "from keras.layers import Input, Dense\n",
    "from keras.models import Model\n",
    "\n",
    "# this is the size of our encoded representations\n",
    "encoding_dim = 32  # 32 floats -> compression of factor 24.5, assuming the input is 784 floats\n",
    "\n",
    "# this is our input placeholder\n",
    "input_img = Input(shape=(784,))\n",
    "# \"encoded\" is the encoded representation of the input\n",
    "encoded = Dense(encoding_dim, activation='relu')(input_img)\n",
    "# \"decoded\" is the lossy reconstruction of the input\n",
    "decoded = Dense(784, activation='sigmoid')(encoded)\n",
    "\n",
    "# this model maps an input to its reconstruction\n",
    "autoencoder = Model(input_img, decoded)\n",
    "\n"
   ]
  },
  {
   "cell_type": "code",
   "execution_count": 3,
   "metadata": {},
   "outputs": [],
   "source": [
    "# this model maps an input to its encoded representation\n",
    "encoder = Model(input_img, encoded)\n"
   ]
  },
  {
   "cell_type": "code",
   "execution_count": 4,
   "metadata": {
    "collapsed": true
   },
   "outputs": [],
   "source": [
    "# creating a placeholder for an encoded (32-dimensional) input\n",
    "encoded_input = Input(shape=(encoding_dim,))\n",
    "# retrieving the last layer of the autoencoder model\n",
    "decoder_layer = autoencoder.layers[-1]\n",
    "# creating the decoder model\n",
    "decoder = Model(encoded_input, decoder_layer(encoded_input))\n",
    "\n"
   ]
  },
  {
   "cell_type": "code",
   "execution_count": 5,
   "metadata": {
    "collapsed": true
   },
   "outputs": [],
   "source": [
    "autoencoder.compile(optimizer='adadelta', loss='binary_crossentropy')"
   ]
  },
  {
   "cell_type": "code",
   "execution_count": 6,
   "metadata": {
    "collapsed": true
   },
   "outputs": [],
   "source": [
    "from keras.datasets import mnist\n",
    "import numpy as np\n",
    "(x_train, _), (x_test, _) = mnist.load_data()\n"
   ]
  },
  {
   "cell_type": "code",
   "execution_count": 8,
   "metadata": {},
   "outputs": [
    {
     "name": "stdout",
     "output_type": "stream",
     "text": [
      "(60000, 784)\n",
      "(10000, 784)\n"
     ]
    }
   ],
   "source": [
    "x_train = x_train.astype('float32') / 255.\n",
    "x_test = x_test.astype('float32') / 255.\n",
    "x_train = x_train.reshape((len(x_train), np.prod(x_train.shape[1:])))\n",
    "x_test = x_test.reshape((len(x_test), np.prod(x_test.shape[1:])))\n",
    "print( x_train.shape)\n",
    "print (x_test.shape)\n"
   ]
  },
  {
   "cell_type": "code",
   "execution_count": 9,
   "metadata": {},
   "outputs": [
    {
     "name": "stdout",
     "output_type": "stream",
     "text": [
      "Train on 60000 samples, validate on 10000 samples\n",
      "Epoch 1/50\n",
      "60000/60000 [==============================] - 9s 150us/step - loss: 0.3585 - val_loss: 0.2710\n",
      "Epoch 2/50\n",
      "60000/60000 [==============================] - 6s 98us/step - loss: 0.2628 - val_loss: 0.2507\n",
      "Epoch 3/50\n",
      "60000/60000 [==============================] - 6s 105us/step - loss: 0.2404 - val_loss: 0.2284\n",
      "Epoch 4/50\n",
      "60000/60000 [==============================] - 6s 100us/step - loss: 0.2215 - val_loss: 0.2123\n",
      "Epoch 5/50\n",
      "60000/60000 [==============================] - 6s 94us/step - loss: 0.2074 - val_loss: 0.2000\n",
      "Epoch 6/50\n",
      "60000/60000 [==============================] - 7s 114us/step - loss: 0.1964 - val_loss: 0.1902\n",
      "Epoch 7/50\n",
      "60000/60000 [==============================] - 6s 103us/step - loss: 0.1877 - val_loss: 0.1825\n",
      "Epoch 8/50\n",
      "60000/60000 [==============================] - 6s 106us/step - loss: 0.1807 - val_loss: 0.1762\n",
      "Epoch 9/50\n",
      "60000/60000 [==============================] - 6s 98us/step - loss: 0.1749 - val_loss: 0.1708\n",
      "Epoch 10/50\n",
      "60000/60000 [==============================] - 6s 104us/step - loss: 0.1698 - val_loss: 0.1659\n",
      "Epoch 11/50\n",
      "60000/60000 [==============================] - 6s 105us/step - loss: 0.1652 - val_loss: 0.1616\n",
      "Epoch 12/50\n",
      "60000/60000 [==============================] - 6s 100us/step - loss: 0.1611 - val_loss: 0.1576\n",
      "Epoch 13/50\n",
      "60000/60000 [==============================] - 6s 105us/step - loss: 0.1574 - val_loss: 0.1541\n",
      "Epoch 14/50\n",
      "60000/60000 [==============================] - 6s 98us/step - loss: 0.1540 - val_loss: 0.1508\n",
      "Epoch 15/50\n",
      "60000/60000 [==============================] - 6s 100us/step - loss: 0.1510 - val_loss: 0.1480\n",
      "Epoch 16/50\n",
      "60000/60000 [==============================] - 6s 98us/step - loss: 0.1482 - val_loss: 0.1453\n",
      "Epoch 17/50\n",
      "60000/60000 [==============================] - 6s 98us/step - loss: 0.1456 - val_loss: 0.1429\n",
      "Epoch 18/50\n",
      "60000/60000 [==============================] - 6s 99us/step - loss: 0.1432 - val_loss: 0.1403\n",
      "Epoch 19/50\n",
      "60000/60000 [==============================] - 6s 99us/step - loss: 0.1409 - val_loss: 0.1381\n",
      "Epoch 20/50\n",
      "60000/60000 [==============================] - 6s 99us/step - loss: 0.1386 - val_loss: 0.1360\n",
      "Epoch 21/50\n",
      "60000/60000 [==============================] - 6s 99us/step - loss: 0.1364 - val_loss: 0.1337\n",
      "Epoch 22/50\n",
      "60000/60000 [==============================] - 6s 100us/step - loss: 0.1343 - val_loss: 0.1316\n",
      "Epoch 23/50\n",
      "60000/60000 [==============================] - 6s 99us/step - loss: 0.1323 - val_loss: 0.1297\n",
      "Epoch 24/50\n",
      "60000/60000 [==============================] - 6s 101us/step - loss: 0.1303 - val_loss: 0.1276\n",
      "Epoch 25/50\n",
      "60000/60000 [==============================] - 6s 101us/step - loss: 0.1283 - val_loss: 0.1258\n",
      "Epoch 26/50\n",
      "60000/60000 [==============================] - 6s 100us/step - loss: 0.1265 - val_loss: 0.1240\n",
      "Epoch 27/50\n",
      "60000/60000 [==============================] - 7s 109us/step - loss: 0.1248 - val_loss: 0.1223\n",
      "Epoch 28/50\n",
      "60000/60000 [==============================] - 6s 99us/step - loss: 0.1231 - val_loss: 0.1207\n",
      "Epoch 29/50\n",
      "60000/60000 [==============================] - 6s 99us/step - loss: 0.1216 - val_loss: 0.1192\n",
      "Epoch 30/50\n",
      "60000/60000 [==============================] - 6s 103us/step - loss: 0.1201 - val_loss: 0.1178\n",
      "Epoch 31/50\n",
      "60000/60000 [==============================] - 6s 99us/step - loss: 0.1188 - val_loss: 0.1165\n",
      "Epoch 32/50\n",
      "60000/60000 [==============================] - 6s 100us/step - loss: 0.1175 - val_loss: 0.1153\n",
      "Epoch 33/50\n",
      "60000/60000 [==============================] - 6s 100us/step - loss: 0.1163 - val_loss: 0.1141\n",
      "Epoch 34/50\n",
      "60000/60000 [==============================] - 6s 103us/step - loss: 0.1152 - val_loss: 0.1130\n",
      "Epoch 35/50\n",
      "60000/60000 [==============================] - 6s 106us/step - loss: 0.1142 - val_loss: 0.1120\n",
      "Epoch 36/50\n",
      "60000/60000 [==============================] - 6s 100us/step - loss: 0.1132 - val_loss: 0.1111\n",
      "Epoch 37/50\n",
      "60000/60000 [==============================] - 6s 100us/step - loss: 0.1123 - val_loss: 0.1101\n",
      "Epoch 38/50\n",
      "60000/60000 [==============================] - 6s 100us/step - loss: 0.1114 - val_loss: 0.1093\n",
      "Epoch 39/50\n",
      "60000/60000 [==============================] - 6s 101us/step - loss: 0.1106 - val_loss: 0.1085\n",
      "Epoch 40/50\n",
      "60000/60000 [==============================] - 6s 102us/step - loss: 0.1098 - val_loss: 0.1078\n",
      "Epoch 41/50\n",
      "60000/60000 [==============================] - 6s 92us/step - loss: 0.1091 - val_loss: 0.1071\n",
      "Epoch 42/50\n",
      "60000/60000 [==============================] - 6s 104us/step - loss: 0.1084 - val_loss: 0.1064\n",
      "Epoch 43/50\n",
      "60000/60000 [==============================] - 6s 92us/step - loss: 0.1078 - val_loss: 0.1058\n",
      "Epoch 44/50\n",
      "60000/60000 [==============================] - 5s 86us/step - loss: 0.1072 - val_loss: 0.1052\n",
      "Epoch 45/50\n",
      "60000/60000 [==============================] - 673s 11ms/step - loss: 0.1066 - val_loss: 0.1047\n",
      "Epoch 46/50\n",
      "60000/60000 [==============================] - 7s 112us/step - loss: 0.1061 - val_loss: 0.1042\n",
      "Epoch 47/50\n",
      "60000/60000 [==============================] - 7s 113us/step - loss: 0.1056 - val_loss: 0.1037\n",
      "Epoch 48/50\n",
      "60000/60000 [==============================] - 8s 126us/step - loss: 0.1052 - val_loss: 0.1033\n",
      "Epoch 49/50\n",
      "60000/60000 [==============================] - 6s 102us/step - loss: 0.1047 - val_loss: 0.1028\n",
      "Epoch 50/50\n",
      "60000/60000 [==============================] - 6s 103us/step - loss: 0.1043 - val_loss: 0.1024\n"
     ]
    },
    {
     "data": {
      "text/plain": [
       "<keras.callbacks.History at 0x27725f21048>"
      ]
     },
     "execution_count": 9,
     "metadata": {},
     "output_type": "execute_result"
    }
   ],
   "source": [
    "autoencoder.fit(x_train, x_train,\n",
    "                epochs=50,\n",
    "                batch_size=256,\n",
    "                shuffle=True,\n",
    "                validation_data=(x_test, x_test))\n"
   ]
  },
  {
   "cell_type": "code",
   "execution_count": 10,
   "metadata": {
    "collapsed": true
   },
   "outputs": [],
   "source": [
    "# encode and decode some digits\n",
    "# note that we take them from the *test* set\n",
    "encoded_imgs = encoder.predict(x_test)\n",
    "decoded_imgs = decoder.predict(encoded_imgs)\n"
   ]
  },
  {
   "cell_type": "code",
   "execution_count": 11,
   "metadata": {},
   "outputs": [
    {
     "data": {
      "image/png": "[encoded data removed]",
      "text/plain": [
       "<matplotlib.figure.Figure at 0x2772642b4e0>"
      ]
     },
     "metadata": {},
     "output_type": "display_data"
    }
   ],
   "source": [
    "# using Matplotlib \n",
    "import matplotlib.pyplot as plt\n",
    "\n",
    "n = 10  # how many digits we will display\n",
    "plt.figure(figsize=(20, 4))\n",
    "for i in range(n):\n",
    "    # display original\n",
    "    ax = plt.subplot(2, n, i + 1)\n",
    "    plt.imshow(x_test[i].reshape(28, 28))\n",
    "    plt.gray()\n",
    "    ax.get_xaxis().set_visible(False)\n",
    "    ax.get_yaxis().set_visible(False)\n",
    "\n",
    "    # display reconstruction\n",
    "    ax = plt.subplot(2, n, i + 1 + n)\n",
    "    plt.imshow(decoded_imgs[i].reshape(28, 28))\n",
    "    plt.gray()\n",
    "    ax.get_xaxis().set_visible(False)\n",
    "    ax.get_yaxis().set_visible(False)\n",
    "plt.show()\n"
   ]
  },
  {
   "cell_type": "code",
   "execution_count": null,
   "metadata": {
    "collapsed": true
   },
   "outputs": [],
   "source": []
  }
 ],
 "metadata": {
  "kernelspec": {
   "display_name": "Python 3",
   "language": "python",
   "name": "python3"
  },
  "language_info": {
   "codemirror_mode": {
    "name": "ipython",
    "version": 3
   },
   "file_extension": ".py",
   "mimetype": "text/x-python",
   "name": "python",
   "nbconvert_exporter": "python",
   "pygments_lexer": "ipython3",
   "version": "3.6.3"
  }
 },
 "nbformat": 4,
 "nbformat_minor": 2
}
